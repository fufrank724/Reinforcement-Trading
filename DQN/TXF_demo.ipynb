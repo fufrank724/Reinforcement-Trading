{
 "cells": [
  {
   "cell_type": "code",
   "execution_count": 1,
   "metadata": {
    "collapsed": true
   },
   "outputs": [],
   "source": [
    "import warnings,time,sys\n",
    "import numpy as np\n",
    "import pandas as pd\n",
    "from datetime import date,datetime\n",
    "\n",
    "# local library\n",
    "st = time.time()\n",
    "\n",
    "start_date=\"2006-04-01\"\n",
    "end_date=\"2015-03-31\"\n",
    "    # use Open data\n"
   ]
  },
  {
   "cell_type": "code",
   "execution_count": 2,
   "metadata": {},
   "outputs": [
    {
     "data": {
      "text/html": [
       "<div>\n",
       "<style>\n",
       "    .dataframe thead tr:only-child th {\n",
       "        text-align: right;\n",
       "    }\n",
       "\n",
       "    .dataframe thead th {\n",
       "        text-align: left;\n",
       "    }\n",
       "\n",
       "    .dataframe tbody tr th {\n",
       "        vertical-align: top;\n",
       "    }\n",
       "</style>\n",
       "<table border=\"1\" class=\"dataframe\">\n",
       "  <thead>\n",
       "    <tr style=\"text-align: right;\">\n",
       "      <th></th>\n",
       "      <th>date</th>\n",
       "      <th>TXF</th>\n",
       "      <th>long</th>\n",
       "      <th>short</th>\n",
       "    </tr>\n",
       "  </thead>\n",
       "  <tbody>\n",
       "    <tr>\n",
       "      <th>0</th>\n",
       "      <td>1995-01-10</td>\n",
       "      <td>6756</td>\n",
       "      <td>NaN</td>\n",
       "      <td>NaN</td>\n",
       "    </tr>\n",
       "    <tr>\n",
       "      <th>1</th>\n",
       "      <td>1995-01-11</td>\n",
       "      <td>6777</td>\n",
       "      <td>NaN</td>\n",
       "      <td>NaN</td>\n",
       "    </tr>\n",
       "    <tr>\n",
       "      <th>2</th>\n",
       "      <td>1995-01-12</td>\n",
       "      <td>6609</td>\n",
       "      <td>NaN</td>\n",
       "      <td>NaN</td>\n",
       "    </tr>\n",
       "    <tr>\n",
       "      <th>3</th>\n",
       "      <td>1995-01-13</td>\n",
       "      <td>6582</td>\n",
       "      <td>NaN</td>\n",
       "      <td>NaN</td>\n",
       "    </tr>\n",
       "    <tr>\n",
       "      <th>4</th>\n",
       "      <td>1995-01-14</td>\n",
       "      <td>6511</td>\n",
       "      <td>NaN</td>\n",
       "      <td>NaN</td>\n",
       "    </tr>\n",
       "  </tbody>\n",
       "</table>\n",
       "</div>"
      ],
      "text/plain": [
       "         date   TXF  long  short\n",
       "0  1995-01-10  6756   NaN    NaN\n",
       "1  1995-01-11  6777   NaN    NaN\n",
       "2  1995-01-12  6609   NaN    NaN\n",
       "3  1995-01-13  6582   NaN    NaN\n",
       "4  1995-01-14  6511   NaN    NaN"
      ]
     },
     "execution_count": 2,
     "metadata": {},
     "output_type": "execute_result"
    }
   ],
   "source": [
    "input_data=pd.read_csv(\"TXF_day.CSV\")\n",
    "i=datetime.strptime(input_data['date'][0], \"%Y/%m/%d\").strftime(\"%Y-%m-%d\")\n",
    "for i in range(len(input_data['date'])):\n",
    "    t=datetime.strptime(input_data['date'][i], \"%Y/%m/%d\").strftime(\"%Y-%m-%d\")\n",
    "    input_data=input_data.set_value(i,'date',t)\n",
    "\n",
    "#input_data=input_data.set_index(['date'])    \n",
    "#input_data.drop('date', axis=1, inplace=True)\n",
    "\n",
    "input_data.drop('open', axis=1, inplace=True)\n",
    "input_data.drop('high',axis=1, inplace=True)\n",
    "input_data.drop('low', axis=1, inplace=True)\n",
    "input_data.drop('quote', axis=1, inplace=True)\n",
    "input_data.drop('quote_b(3)', axis=1, inplace=True)\n",
    "input_data.drop('quote_a(3)', axis=1, inplace=True)\n",
    "input_data.drop('BIAS(5)', axis=1, inplace=True)\n",
    "\n",
    "input_data=input_data.rename(columns={'close': 'TXF'})\n",
    "input_data['long']=np.nan\n",
    "input_data['short']=np.nan\n",
    "\n",
    "input_data.head()\n"
   ]
  },
  {
   "cell_type": "code",
   "execution_count": 7,
   "metadata": {},
   "outputs": [
    {
     "data": {
      "text/html": [
       "<div>\n",
       "<style>\n",
       "    .dataframe thead tr:only-child th {\n",
       "        text-align: right;\n",
       "    }\n",
       "\n",
       "    .dataframe thead th {\n",
       "        text-align: left;\n",
       "    }\n",
       "\n",
       "    .dataframe tbody tr th {\n",
       "        vertical-align: top;\n",
       "    }\n",
       "</style>\n",
       "<table border=\"1\" class=\"dataframe\">\n",
       "  <thead>\n",
       "    <tr style=\"text-align: right;\">\n",
       "      <th></th>\n",
       "      <th>date</th>\n",
       "      <th>TXF</th>\n",
       "      <th>long</th>\n",
       "      <th>short</th>\n",
       "    </tr>\n",
       "  </thead>\n",
       "  <tbody>\n",
       "    <tr>\n",
       "      <th>60</th>\n",
       "      <td>1995-03-30</td>\n",
       "      <td>6514</td>\n",
       "      <td>6514.0</td>\n",
       "      <td>NaN</td>\n",
       "    </tr>\n",
       "    <tr>\n",
       "      <th>61</th>\n",
       "      <td>1995-03-31</td>\n",
       "      <td>6524</td>\n",
       "      <td>6514.0</td>\n",
       "      <td>NaN</td>\n",
       "    </tr>\n",
       "    <tr>\n",
       "      <th>62</th>\n",
       "      <td>1995-04-01</td>\n",
       "      <td>6573</td>\n",
       "      <td>6514.0</td>\n",
       "      <td>NaN</td>\n",
       "    </tr>\n",
       "    <tr>\n",
       "      <th>63</th>\n",
       "      <td>1995-04-06</td>\n",
       "      <td>6575</td>\n",
       "      <td>6514.0</td>\n",
       "      <td>NaN</td>\n",
       "    </tr>\n",
       "    <tr>\n",
       "      <th>64</th>\n",
       "      <td>1995-04-07</td>\n",
       "      <td>6518</td>\n",
       "      <td>6514.0</td>\n",
       "      <td>NaN</td>\n",
       "    </tr>\n",
       "  </tbody>\n",
       "</table>\n",
       "</div>"
      ],
      "text/plain": [
       "          date   TXF    long  short\n",
       "60  1995-03-30  6514  6514.0    NaN\n",
       "61  1995-03-31  6524  6514.0    NaN\n",
       "62  1995-04-01  6573  6514.0    NaN\n",
       "63  1995-04-06  6575  6514.0    NaN\n",
       "64  1995-04-07  6518  6514.0    NaN"
      ]
     },
     "execution_count": 7,
     "metadata": {},
     "output_type": "execute_result"
    },
    {
     "data": {
      "image/png": "[encoded data removed]",
      "text/plain": [
       "<matplotlib.figure.Figure at 0x1ddfdb3e6a0>"
      ]
     },
     "metadata": {},
     "output_type": "display_data"
    }
   ],
   "source": [
    "%matplotlib inline\n",
    "\n",
    "buy_point=input_data['TXF'].iloc[60]\n",
    "for i in range(60,69):\n",
    "    input_data=input_data.set_value(i,'long',buy_point)\n",
    "a=input_data.iloc[60:119]\n",
    "fig=a.plot().get_figure()\n",
    "#fig=b.get_figure()\n",
    "input_data.iloc[60:69].head()"
   ]
  },
  {
   "cell_type": "markdown",
   "metadata": {},
   "source": [
    "# Image to gray"
   ]
  },
  {
   "cell_type": "code",
   "execution_count": 8,
   "metadata": {},
   "outputs": [
    {
     "data": {
      "text/plain": [
       "RangeIndex(start=0, stop=5626, step=1)"
      ]
     },
     "execution_count": 8,
     "metadata": {},
     "output_type": "execute_result"
    }
   ],
   "source": [
    "def rgb2gray(rgb):\n",
    "    return np.dot(rgb[...,:3], [0.299, 0.587, 0.114])\n",
    "def smallerimg(img):\n",
    "    return img[35:-35,53:-40,:]\n",
    "input_data.index"
   ]
  },
  {
   "cell_type": "markdown",
   "metadata": {},
   "source": [
    "# Convert to Image\n"
   ]
  },
  {
   "cell_type": "code",
   "execution_count": 10,
   "metadata": {},
   "outputs": [],
   "source": [
    "from PIL import Image, ImageDraw\n",
    "im_h = im_w =80\n",
    "im = Image.new('L', (im_h, im_w)) \n",
    "draw = ImageDraw.Draw(im)\n",
    "\n",
    "h= input_data['TXF'].iloc[:59].max()- input_data['TXF'].iloc[:59].min()\n",
    "down = input_data['TXF'].iloc[:59].min()\n",
    "high = input_data['TXF'].iloc[:59].max()\n",
    "for i in range(1,60):\n",
    "    #p1 = (input_data['TXF'][i-1]-down)*(im_h/h)\n",
    "    #p2= (input_data['TXF'][i]-down)*(im_h/h)\n",
    "    p1= (high-input_data['TXF'][i-1])*(im_h/h)\n",
    "    p2= (high-input_data['TXF'][i])*(im_h/h)\n",
    "    \n",
    "    r_w = im_w/60\n",
    "    draw.line(((i-1)*r_w, p1 ,i*r_w , p2), fill=255)\n",
    "im.show()"
   ]
  },
  {
   "cell_type": "code",
   "execution_count": 4,
   "metadata": {},
   "outputs": [
    {
     "name": "stderr",
     "output_type": "stream",
     "text": [
      "Using TensorFlow backend.\n"
     ]
    }
   ],
   "source": [
    "from keras import initializations\n",
    "from keras.initializations import normal, identity\n",
    "from keras.models import model_from_json\n",
    "from keras.models import Sequential\n",
    "from keras.layers.core import Dense, Dropout, Activation, Flatten\n",
    "from keras.layers.convolutional import Convolution2D, MaxPooling2D\n",
    "from keras.optimizers import SGD , Adam\n",
    "import tensorflow as tf\n",
    "\n",
    "im_h = im_w =80\n",
    "img_channels = 4\n",
    "LEARNING_RATE = 1e-4\n",
    "\n",
    "def buildmodel():\n",
    "    print(\"Now we build the model\")\n",
    "    model = Sequential()\n",
    "    model.add(Convolution2D(32, 8, 8, subsample=(4, 4), border_mode='same',input_shape=(im_h , im_w,img_channels)))  #80*80*4\n",
    "    model.add(Activation('relu'))\n",
    "    model.add(Convolution2D(64, 4, 4, subsample=(2, 2), border_mode='same'))\n",
    "    model.add(Activation('relu'))\n",
    "    model.add(Convolution2D(64, 3, 3, subsample=(1, 1), border_mode='same'))\n",
    "    model.add(Activation('relu'))\n",
    "    model.add(Flatten())\n",
    "    model.add(Dense(512))\n",
    "    model.add(Activation('relu'))\n",
    "    model.add(Dense(2))\n",
    "   \n",
    "    adam = Adam(lr=LEARNING_RATE)\n",
    "    model.compile(loss='mse',optimizer=adam)\n",
    "    print(\"We finish building the model\")\n",
    "    return model"
   ]
  },
  {
   "cell_type": "code",
   "execution_count": 5,
   "metadata": {},
   "outputs": [
    {
     "name": "stdout",
     "output_type": "stream",
     "text": [
      "Now we build the model\n",
      "We finish building the model\n"
     ]
    }
   ],
   "source": [
    "m=buildmodel()"
   ]
  },
  {
   "cell_type": "code",
   "execution_count": 13,
   "metadata": {},
   "outputs": [
    {
     "data": {
      "text/plain": [
       "array([[ 8.33793831,  9.35702133]], dtype=float32)"
      ]
     },
     "execution_count": 13,
     "metadata": {},
     "output_type": "execute_result"
    }
   ],
   "source": [
    "arr=np.array(im)\n",
    "s_t = np.stack((arr, arr, arr, arr), axis=2)\n",
    "s_t = s_t.reshape(1, s_t.shape[0], s_t.shape[1], s_t.shape[2])\n",
    "\n",
    "m.predict(s_t)"
   ]
  },
  {
   "cell_type": "code",
   "execution_count": null,
   "metadata": {
    "collapsed": true
   },
   "outputs": [],
   "source": []
  }
 ],
 "metadata": {
  "kernelspec": {
   "display_name": "Python 3",
   "language": "python",
   "name": "python3"
  },
  "language_info": {
   "codemirror_mode": {
    "name": "ipython",
    "version": 3
   },
   "file_extension": ".py",
   "mimetype": "text/x-python",
   "name": "python",
   "nbconvert_exporter": "python",
   "pygments_lexer": "ipython3",
   "version": "3.6.1"
  }
 },
 "nbformat": 4,
 "nbformat_minor": 2
}
