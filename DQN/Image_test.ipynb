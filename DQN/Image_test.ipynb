{
 "cells": [
  {
   "cell_type": "markdown",
   "metadata": {},
   "source": [
    "# Setting Data"
   ]
  },
  {
   "cell_type": "code",
   "execution_count": 1,
   "metadata": {},
   "outputs": [
    {
     "data": {
      "text/html": [
       "<div>\n",
       "<style>\n",
       "    .dataframe thead tr:only-child th {\n",
       "        text-align: right;\n",
       "    }\n",
       "\n",
       "    .dataframe thead th {\n",
       "        text-align: left;\n",
       "    }\n",
       "\n",
       "    .dataframe tbody tr th {\n",
       "        vertical-align: top;\n",
       "    }\n",
       "</style>\n",
       "<table border=\"1\" class=\"dataframe\">\n",
       "  <thead>\n",
       "    <tr style=\"text-align: right;\">\n",
       "      <th></th>\n",
       "      <th>date</th>\n",
       "      <th>TXF</th>\n",
       "      <th>long</th>\n",
       "      <th>short</th>\n",
       "    </tr>\n",
       "  </thead>\n",
       "  <tbody>\n",
       "    <tr>\n",
       "      <th>0</th>\n",
       "      <td>1995-01-10</td>\n",
       "      <td>6756</td>\n",
       "      <td>NaN</td>\n",
       "      <td>NaN</td>\n",
       "    </tr>\n",
       "    <tr>\n",
       "      <th>1</th>\n",
       "      <td>1995-01-11</td>\n",
       "      <td>6777</td>\n",
       "      <td>NaN</td>\n",
       "      <td>NaN</td>\n",
       "    </tr>\n",
       "    <tr>\n",
       "      <th>2</th>\n",
       "      <td>1995-01-12</td>\n",
       "      <td>6609</td>\n",
       "      <td>NaN</td>\n",
       "      <td>NaN</td>\n",
       "    </tr>\n",
       "    <tr>\n",
       "      <th>3</th>\n",
       "      <td>1995-01-13</td>\n",
       "      <td>6582</td>\n",
       "      <td>NaN</td>\n",
       "      <td>NaN</td>\n",
       "    </tr>\n",
       "    <tr>\n",
       "      <th>4</th>\n",
       "      <td>1995-01-14</td>\n",
       "      <td>6511</td>\n",
       "      <td>NaN</td>\n",
       "      <td>NaN</td>\n",
       "    </tr>\n",
       "  </tbody>\n",
       "</table>\n",
       "</div>"
      ],
      "text/plain": [
       "         date   TXF  long  short\n",
       "0  1995-01-10  6756   NaN    NaN\n",
       "1  1995-01-11  6777   NaN    NaN\n",
       "2  1995-01-12  6609   NaN    NaN\n",
       "3  1995-01-13  6582   NaN    NaN\n",
       "4  1995-01-14  6511   NaN    NaN"
      ]
     },
     "execution_count": 1,
     "metadata": {},
     "output_type": "execute_result"
    }
   ],
   "source": [
    "import warnings,time,sys\n",
    "import numpy as np\n",
    "import pandas as pd\n",
    "from datetime import date,datetime\n",
    "\n",
    "input_data=pd.read_csv(\"TXF_day.CSV\")\n",
    "i=datetime.strptime(input_data['date'][0], \"%Y/%m/%d\").strftime(\"%Y-%m-%d\")\n",
    "for i in range(len(input_data['date'])):\n",
    "    t=datetime.strptime(input_data['date'][i], \"%Y/%m/%d\").strftime(\"%Y-%m-%d\")\n",
    "    input_data=input_data.set_value(i,'date',t)\n",
    "\n",
    "#input_data=input_data.set_index(['date'])    \n",
    "#input_data.drop('date', axis=1, inplace=True)\n",
    "\n",
    "input_data.drop('open', axis=1, inplace=True)\n",
    "input_data.drop('high',axis=1, inplace=True)\n",
    "input_data.drop('low', axis=1, inplace=True)\n",
    "input_data.drop('quote', axis=1, inplace=True)\n",
    "input_data.drop('quote_b(3)', axis=1, inplace=True)\n",
    "input_data.drop('quote_a(3)', axis=1, inplace=True)\n",
    "input_data.drop('BIAS(5)', axis=1, inplace=True)\n",
    "\n",
    "input_data=input_data.rename(columns={'close': 'TXF'})\n",
    "input_data['long']=np.nan\n",
    "input_data['short']=np.nan\n",
    "\n",
    "input_data.head()"
   ]
  },
  {
   "cell_type": "markdown",
   "metadata": {},
   "source": [
    "# Matplotlib exapmle"
   ]
  },
  {
   "cell_type": "code",
   "execution_count": 51,
   "metadata": {},
   "outputs": [
    {
     "data": {
      "image/png": "[encoded data removed]",
      "text/plain": [
       "<matplotlib.figure.Figure at 0x213c0521978>"
      ]
     },
     "metadata": {},
     "output_type": "display_data"
    }
   ],
   "source": [
    "%matplotlib inline\n",
    "a=input_data.iloc[:59]\n",
    "fig=a.plot().get_figure()"
   ]
  },
  {
   "cell_type": "code",
   "execution_count": 3,
   "metadata": {
    "collapsed": true
   },
   "outputs": [],
   "source": [
    "from PIL import Image, ImageDraw\n",
    "im_h = im_w =400\n",
    "im = Image.new('RGBA', (im_h, im_w), (255, 255, 255, 0)) \n",
    "draw = ImageDraw.Draw(im)\n",
    "\n",
    "h= input_data['TXF'].iloc[:59].max()- input_data['TXF'].iloc[:59].min()\n",
    "down = input_data['TXF'].iloc[:59].min()\n",
    "high = input_data['TXF'].iloc[:59].max()\n",
    "for i in range(1,60):\n",
    "    #p1 = (input_data['TXF'][i-1]-down)*(im_h/h)\n",
    "    #p2= (input_data['TXF'][i]-down)*(im_h/h)\n",
    "    p1= (high-input_data['TXF'][i-1])*(im_h/h)\n",
    "    p2= (high-input_data['TXF'][i])*(im_h/h)\n",
    "    \n",
    "    r_w = im_w/60\n",
    "    draw.line(((i-1)*r_w, p1 ,i*r_w , p2), fill=0)\n",
    "im.show()"
   ]
  },
  {
   "cell_type": "code",
   "execution_count": 4,
   "metadata": {},
   "outputs": [
    {
     "name": "stdout",
     "output_type": "stream",
     "text": [
      "(400, 400, 4)\n"
     ]
    }
   ],
   "source": [
    "arr=np.array(im)\n",
    "print(arr.shape)"
   ]
  },
  {
   "cell_type": "code",
   "execution_count": 12,
   "metadata": {},
   "outputs": [
    {
     "name": "stdout",
     "output_type": "stream",
     "text": [
      "1.23\n"
     ]
    }
   ],
   "source": [
    "a=1.2345908\n",
    "print(str(a)[:4])"
   ]
  },
  {
   "cell_type": "code",
   "execution_count": null,
   "metadata": {
    "collapsed": true
   },
   "outputs": [],
   "source": []
  }
 ],
 "metadata": {
  "kernelspec": {
   "display_name": "Python 3",
   "language": "python",
   "name": "python3"
  },
  "language_info": {
   "codemirror_mode": {
    "name": "ipython",
    "version": 3
   },
   "file_extension": ".py",
   "mimetype": "text/x-python",
   "name": "python",
   "nbconvert_exporter": "python",
   "pygments_lexer": "ipython3",
   "version": "3.6.1"
  }
 },
 "nbformat": 4,
 "nbformat_minor": 2
}
