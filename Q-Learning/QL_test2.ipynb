{
 "cells": [
  {
   "cell_type": "code",
   "execution_count": 8,
   "metadata": {},
   "outputs": [
    {
     "data": {
      "text/html": [
       "<div>\n",
       "<style>\n",
       "    .dataframe thead tr:only-child th {\n",
       "        text-align: right;\n",
       "    }\n",
       "\n",
       "    .dataframe thead th {\n",
       "        text-align: left;\n",
       "    }\n",
       "\n",
       "    .dataframe tbody tr th {\n",
       "        vertical-align: top;\n",
       "    }\n",
       "</style>\n",
       "<table border=\"1\" class=\"dataframe\">\n",
       "  <thead>\n",
       "    <tr style=\"text-align: right;\">\n",
       "      <th></th>\n",
       "      <th>Date</th>\n",
       "      <th>time</th>\n",
       "      <th>close</th>\n",
       "      <th>quote</th>\n",
       "      <th>H_L</th>\n",
       "      <th>H_C</th>\n",
       "      <th>C_L</th>\n",
       "      <th>avg_c10_filt</th>\n",
       "      <th>avg_vol10_filt</th>\n",
       "    </tr>\n",
       "  </thead>\n",
       "  <tbody>\n",
       "    <tr>\n",
       "      <th>0</th>\n",
       "      <td>2001/1/4</td>\n",
       "      <td>945</td>\n",
       "      <td>5060</td>\n",
       "      <td>-89</td>\n",
       "      <td>89</td>\n",
       "      <td>80</td>\n",
       "      <td>9</td>\n",
       "      <td>0.965</td>\n",
       "      <td>0.699</td>\n",
       "    </tr>\n",
       "    <tr>\n",
       "      <th>1</th>\n",
       "      <td>2001/1/4</td>\n",
       "      <td>1045</td>\n",
       "      <td>5130</td>\n",
       "      <td>65</td>\n",
       "      <td>68</td>\n",
       "      <td>-1</td>\n",
       "      <td>69</td>\n",
       "      <td>0.959</td>\n",
       "      <td>1.26</td>\n",
       "    </tr>\n",
       "    <tr>\n",
       "      <th>2</th>\n",
       "      <td>2001/1/4</td>\n",
       "      <td>1145</td>\n",
       "      <td>5105</td>\n",
       "      <td>-25</td>\n",
       "      <td>50</td>\n",
       "      <td>30</td>\n",
       "      <td>20</td>\n",
       "      <td>0.970</td>\n",
       "      <td>1.294</td>\n",
       "    </tr>\n",
       "    <tr>\n",
       "      <th>3</th>\n",
       "      <td>2001/1/4</td>\n",
       "      <td>1245</td>\n",
       "      <td>5128</td>\n",
       "      <td>18</td>\n",
       "      <td>33</td>\n",
       "      <td>7</td>\n",
       "      <td>26</td>\n",
       "      <td>0.970</td>\n",
       "      <td>1.83</td>\n",
       "    </tr>\n",
       "    <tr>\n",
       "      <th>4</th>\n",
       "      <td>2001/1/4</td>\n",
       "      <td>1345</td>\n",
       "      <td>5121</td>\n",
       "      <td>-8</td>\n",
       "      <td>52</td>\n",
       "      <td>54</td>\n",
       "      <td>-2</td>\n",
       "      <td>0.976</td>\n",
       "      <td>0.935</td>\n",
       "    </tr>\n",
       "  </tbody>\n",
       "</table>\n",
       "</div>"
      ],
      "text/plain": [
       "       Date  time  close  quote  H_L  H_C  C_L  avg_c10_filt avg_vol10_filt\n",
       "0  2001/1/4   945   5060    -89   89   80    9         0.965          0.699\n",
       "1  2001/1/4  1045   5130     65   68   -1   69         0.959           1.26\n",
       "2  2001/1/4  1145   5105    -25   50   30   20         0.970          1.294\n",
       "3  2001/1/4  1245   5128     18   33    7   26         0.970           1.83\n",
       "4  2001/1/4  1345   5121     -8   52   54   -2         0.976          0.935"
      ]
     },
     "execution_count": 8,
     "metadata": {},
     "output_type": "execute_result"
    }
   ],
   "source": [
    "import pandas as pd\n",
    "import numpy as np\n",
    "\n",
    "input_data=pd.read_csv(\"TXF_60min_filted.CSV\")\n",
    "input_data.head()"
   ]
  },
  {
   "cell_type": "code",
   "execution_count": 9,
   "metadata": {},
   "outputs": [
    {
     "data": {
      "text/html": [
       "<div>\n",
       "<style>\n",
       "    .dataframe thead tr:only-child th {\n",
       "        text-align: right;\n",
       "    }\n",
       "\n",
       "    .dataframe thead th {\n",
       "        text-align: left;\n",
       "    }\n",
       "\n",
       "    .dataframe tbody tr th {\n",
       "        vertical-align: top;\n",
       "    }\n",
       "</style>\n",
       "<table border=\"1\" class=\"dataframe\">\n",
       "  <thead>\n",
       "    <tr style=\"text-align: right;\">\n",
       "      <th></th>\n",
       "      <th>Date</th>\n",
       "      <th>time</th>\n",
       "      <th>close</th>\n",
       "      <th>H_L</th>\n",
       "      <th>H_C</th>\n",
       "      <th>C_L</th>\n",
       "      <th>avg_c10_filt</th>\n",
       "      <th>avg_vol10_filt</th>\n",
       "    </tr>\n",
       "  </thead>\n",
       "  <tbody>\n",
       "    <tr>\n",
       "      <th>0</th>\n",
       "      <td>2001/1/4</td>\n",
       "      <td>945</td>\n",
       "      <td>5060</td>\n",
       "      <td>89</td>\n",
       "      <td>80</td>\n",
       "      <td>9</td>\n",
       "      <td>0.965</td>\n",
       "      <td>0.699</td>\n",
       "    </tr>\n",
       "    <tr>\n",
       "      <th>1</th>\n",
       "      <td>2001/1/4</td>\n",
       "      <td>1045</td>\n",
       "      <td>5130</td>\n",
       "      <td>68</td>\n",
       "      <td>-1</td>\n",
       "      <td>69</td>\n",
       "      <td>0.959</td>\n",
       "      <td>1.26</td>\n",
       "    </tr>\n",
       "    <tr>\n",
       "      <th>2</th>\n",
       "      <td>2001/1/4</td>\n",
       "      <td>1145</td>\n",
       "      <td>5105</td>\n",
       "      <td>50</td>\n",
       "      <td>30</td>\n",
       "      <td>20</td>\n",
       "      <td>0.970</td>\n",
       "      <td>1.294</td>\n",
       "    </tr>\n",
       "    <tr>\n",
       "      <th>3</th>\n",
       "      <td>2001/1/4</td>\n",
       "      <td>1245</td>\n",
       "      <td>5128</td>\n",
       "      <td>33</td>\n",
       "      <td>7</td>\n",
       "      <td>26</td>\n",
       "      <td>0.970</td>\n",
       "      <td>1.83</td>\n",
       "    </tr>\n",
       "    <tr>\n",
       "      <th>4</th>\n",
       "      <td>2001/1/4</td>\n",
       "      <td>1345</td>\n",
       "      <td>5121</td>\n",
       "      <td>52</td>\n",
       "      <td>54</td>\n",
       "      <td>-2</td>\n",
       "      <td>0.976</td>\n",
       "      <td>0.935</td>\n",
       "    </tr>\n",
       "  </tbody>\n",
       "</table>\n",
       "</div>"
      ],
      "text/plain": [
       "       Date  time  close  H_L  H_C  C_L  avg_c10_filt avg_vol10_filt\n",
       "0  2001/1/4   945   5060   89   80    9         0.965          0.699\n",
       "1  2001/1/4  1045   5130   68   -1   69         0.959           1.26\n",
       "2  2001/1/4  1145   5105   50   30   20         0.970          1.294\n",
       "3  2001/1/4  1245   5128   33    7   26         0.970           1.83\n",
       "4  2001/1/4  1345   5121   52   54   -2         0.976          0.935"
      ]
     },
     "execution_count": 9,
     "metadata": {},
     "output_type": "execute_result"
    }
   ],
   "source": [
    "input_data.drop('quote', axis=1, inplace=True)\n",
    "input_data.head()\n"
   ]
  },
  {
   "cell_type": "code",
   "execution_count": 18,
   "metadata": {},
   "outputs": [
    {
     "name": "stdout",
     "output_type": "stream",
     "text": [
      "<class 'str'>\n",
      "2001\n"
     ]
    }
   ],
   "source": [
    "import datetime\n",
    "date=input_data['Date'][0]\n",
    "print(type(date))\n",
    "date=(datetime.datetime.strptime(date,\"%Y/%m/%d\"))\n",
    "year=date.strftime('%Y')\n",
    "print(year)"
   ]
  },
  {
   "cell_type": "code",
   "execution_count": 26,
   "metadata": {},
   "outputs": [
    {
     "name": "stdout",
     "output_type": "stream",
     "text": [
      "0\n",
      "state =  [[89, 80, 9, '0.965', '0.699'], [68, -1, 69, '0.959', '1.26'], [50, 30, 20, '0.97', '1.294'], [33, 7, 26, '0.97', '1.83'], [52, 54, -2, '0.976', '0.935']]\n"
     ]
    }
   ],
   "source": [
    "state=[]\n",
    "current_step=0\n",
    "def make_state():\n",
    "    current_step=0\n",
    "    for i in range(5):\n",
    "        state.append([input_data['H_L'][current_step],\n",
    "                     input_data['H_C'][current_step],\n",
    "                     input_data['C_L'][current_step],\n",
    "                     str(input_data['avg_c10_filt'][current_step]),\n",
    "                     input_data['avg_vol10_filt'][current_step]])\n",
    "        current_step+=1\n",
    "make_state()\n",
    "print(current_step)\n",
    "print(\"state = \",state)"
   ]
  },
  {
   "cell_type": "code",
   "execution_count": null,
   "metadata": {
    "collapsed": true
   },
   "outputs": [],
   "source": []
  }
 ],
 "metadata": {
  "kernelspec": {
   "display_name": "Python 3",
   "language": "python",
   "name": "python3"
  },
  "language_info": {
   "codemirror_mode": {
    "name": "ipython",
    "version": 3
   },
   "file_extension": ".py",
   "mimetype": "text/x-python",
   "name": "python",
   "nbconvert_exporter": "python",
   "pygments_lexer": "ipython3",
   "version": "3.6.1"
  }
 },
 "nbformat": 4,
 "nbformat_minor": 2
}
