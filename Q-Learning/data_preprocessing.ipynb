{
 "cells": [
  {
   "cell_type": "code",
   "execution_count": 23,
   "metadata": {
    "collapsed": true
   },
   "outputs": [],
   "source": [
    "import pymysql,itertools\n",
    "import numpy as np\n",
    "db = pymysql.connect(host='127.0.0.1',port=3306, user='root', passwd='cc840724',db='futures_data')\n",
    "cursor=db.cursor()\n",
    "sql_ins=\"select * from futures_data.txf_60mins_filted\"\n",
    "sql_update=\"update txf_60mins_filted set avg_c10=%s,avg_vol10=%s where id = %s\"\n"
   ]
  },
  {
   "cell_type": "code",
   "execution_count": 28,
   "metadata": {
    "collapsed": true
   },
   "outputs": [],
   "source": [
    "def convert(Tuple):\n",
    "        new=[list(item) for item in Tuple]\n",
    "        Tuple = list(itertools.chain.from_iterable(new))\n",
    "        return new"
   ]
  },
  {
   "cell_type": "code",
   "execution_count": 25,
   "metadata": {
    "collapsed": true
   },
   "outputs": [],
   "source": [
    "cursor.execute(sql_ins)\n",
    "data=cursor.fetchall()"
   ]
  },
  {
   "cell_type": "code",
   "execution_count": 32,
   "metadata": {
    "scrolled": false
   },
   "outputs": [
    {
     "name": "stdout",
     "output_type": "stream",
     "text": [
      "(1, datetime.date(2001, 1, 4), 945, 5060.0, -89.0, 89.0, 80.0, 9.0, 0.966, 0.699)\n",
      "20400\n",
      "[1, datetime.date(2001, 1, 4), 945, 5060.0, -89.0, 89.0, 80.0, 9.0, 0.966, 0.699]\n",
      "<class 'list'>\n",
      "[[1 datetime.date(2001, 1, 4) 945 ..., 9.0 0.966 0.699]\n",
      " [2 datetime.date(2001, 1, 4) 1045 ..., 69.0 0.96 1.261]\n",
      " [3 datetime.date(2001, 1, 4) 1145 ..., 20.0 0.97 1.294]\n",
      " ..., \n",
      " [20398 datetime.date(2017, 7, 21) 1145 ..., 10.0 1.007 2.415]\n",
      " [20399 datetime.date(2017, 7, 21) 1245 ..., 9.0 1.004 3.143]\n",
      " [20400 datetime.date(2017, 7, 21) 1345 ..., 3.0 1.004 1.495]]\n"
     ]
    }
   ],
   "source": [
    "print(data[0])\n",
    "print(len(data))\n",
    "_list=convert(data)\n",
    "print(_list[0])\n",
    "print(type(_list))\n",
    "arr=np.array(data)\n",
    "print(arr)"
   ]
  },
  {
   "cell_type": "code",
   "execution_count": 30,
   "metadata": {},
   "outputs": [
    {
     "name": "stdout",
     "output_type": "stream",
     "text": [
      "done\n"
     ]
    }
   ],
   "source": [
    "\n",
    "\"\"\"for i in range(len(data)):\n",
    "    data1=round(int(float(data[i][1])*10000)/10)/1000\n",
    "    data2=round(int(float(data[i][2])*10000)/10)/1000\n",
    "    cursor.execute(sql_update,(data1,data2,data[i][0]))  \n",
    "    db.commit()\n",
    "\"\"\"\n",
    "print(\"done\")"
   ]
  },
  {
   "cell_type": "code",
   "execution_count": 19,
   "metadata": {
    "collapsed": true
   },
   "outputs": [],
   "source": [
    "db.close()"
   ]
  },
  {
   "cell_type": "code",
   "execution_count": 39,
   "metadata": {},
   "outputs": [
    {
     "name": "stdout",
     "output_type": "stream",
     "text": [
      "[-1, 0, 1, 2]\n"
     ]
    }
   ],
   "source": [
    "a=len([-1,0,1,2])-1\n",
    "print(list(range(-1,a)))"
   ]
  },
  {
   "cell_type": "code",
   "execution_count": null,
   "metadata": {
    "collapsed": true
   },
   "outputs": [],
   "source": []
  }
 ],
 "metadata": {
  "kernelspec": {
   "display_name": "Python 3",
   "language": "python",
   "name": "python3"
  },
  "language_info": {
   "codemirror_mode": {
    "name": "ipython",
    "version": 3
   },
   "file_extension": ".py",
   "mimetype": "text/x-python",
   "name": "python",
   "nbconvert_exporter": "python",
   "pygments_lexer": "ipython3",
   "version": "3.6.1"
  }
 },
 "nbformat": 4,
 "nbformat_minor": 2
}
