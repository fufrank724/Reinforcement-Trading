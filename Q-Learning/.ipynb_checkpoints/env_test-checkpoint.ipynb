{
 "cells": [
  {
   "cell_type": "code",
   "execution_count": 1,
   "metadata": {},
   "outputs": [],
   "source": [
    "from RL_brain import QLearningTable\n",
    "from DB import DB_test\n",
    "from env import stock\n",
    "import matplotlib.pyplot as plt\n",
    "import time\n",
    "env = stock()\n",
    "RL = QLearningTable(actions=list(range(-1,env.n_actions)))\n",
    "db=DB_test()\n",
    "db.reset()"
   ]
  },
  {
   "cell_type": "code",
   "execution_count": 2,
   "metadata": {
    "collapsed": true
   },
   "outputs": [],
   "source": [
    "def update():\n",
    "    #fig1 = plt.figure()  \n",
    "    #plt.ion() \n",
    "    _time=0\n",
    "    for episode in range(15000):\n",
    "        if episode%200==0:\n",
    "            step = 0    \n",
    "        #plt.cla()\n",
    "        # initial observation\n",
    "        observation = env.reset()\n",
    "        #while True:\n",
    "        for i in range(len(env.db.data)-1):\n",
    "            start_time = time.time()\n",
    "            # RL choose action based on observation\n",
    "            action = RL.choose_action(str(observation))\n",
    "            time+=time.time()-start_time\n",
    "\n",
    "            # RL take action and get next observation and reward\n",
    "            observation_, reward= env.step(action,i)\n",
    "\n",
    "            # RL learn from this transition\n",
    "            RL.learn(str(observation), action, reward, str(observation_))\n",
    "\n",
    "            # swap observation\n",
    "            observation = observation_\n",
    "\n",
    "            # break while loop when end of this episode\n",
    "            \n",
    "        #plt.plot(np.arange(len(env.performance)),env.performance,\"r\")\n",
    "        #plt.pause(0.001)\n",
    "\n",
    "        print(\"performance: \",env.user[0])\n",
    "        \n",
    "        env.performance=[]\n",
    "        print(episode)\n"
   ]
  },
  {
   "cell_type": "code",
   "execution_count": 3,
   "metadata": {},
   "outputs": [
    {
     "name": "stdout",
     "output_type": "stream",
     "text": [
      "True\n",
      "3\n",
      "2017 7 27\n"
     ]
    }
   ],
   "source": [
    "import time,datetime\n",
    "## dd/mm/yyyy format\n",
    "year,month,day= int(time.strftime(\"%Y\")),int(time.strftime(\"%m\")),int(time.strftime(\"%d\"))\n",
    "\n",
    "def _ifLastDay(year, month, day):\n",
    "\n",
    "    end = int(datetime.datetime(year, month, day).strftime(\"%W\"))\n",
    "    begin = int(datetime.datetime(year, month, 1).strftime(\"%W\"))\n",
    "    \n",
    "    if(end-begin+1)>2 and day>14 and  datetime.date(year, month, day).weekday()==2:\n",
    "        return True\n",
    "    else:\n",
    "        return False\n",
    "\n",
    "begin=int(datetime.datetime(year, month, 1).strftime(\"%W\"))\n",
    "end=int(datetime.datetime(year, month, day).strftime(\"%W\"))\n",
    "\n",
    "print(_ifLastDay(year,4,19))\n",
    "print(datetime.date(year, month, day).weekday())\n",
    "print(year,month,day)"
   ]
  },
  {
   "cell_type": "code",
   "execution_count": 4,
   "metadata": {},
   "outputs": [
    {
     "name": "stdout",
     "output_type": "stream",
     "text": [
      "2001\n"
     ]
    }
   ],
   "source": [
    "date=db.data[0][7]\n",
    "year=date.strftime(\"%Y\")\n",
    "print(year)"
   ]
  },
  {
   "cell_type": "code",
   "execution_count": null,
   "metadata": {
    "collapsed": true
   },
   "outputs": [],
   "source": []
  }
 ],
 "metadata": {
  "kernelspec": {
   "display_name": "Python 3",
   "language": "python",
   "name": "python3"
  },
  "language_info": {
   "codemirror_mode": {
    "name": "ipython",
    "version": 3
   },
   "file_extension": ".py",
   "mimetype": "text/x-python",
   "name": "python",
   "nbconvert_exporter": "python",
   "pygments_lexer": "ipython3",
   "version": "3.6.1"
  }
 },
 "nbformat": 4,
 "nbformat_minor": 2
}
